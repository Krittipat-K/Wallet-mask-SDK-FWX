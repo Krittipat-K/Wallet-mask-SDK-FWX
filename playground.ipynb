{
 "cells": [
  {
   "cell_type": "code",
   "execution_count": 195,
   "metadata": {},
   "outputs": [
    {
     "name": "stdout",
     "output_type": "stream",
     "text": [
      "init chain client\n",
      "try connecting to chain\n",
      "Connected to https://avalanche.drpc.org\n"
     ]
    }
   ],
   "source": [
    "\n",
    "from dotenv import load_dotenv\n",
    "import os\n",
    "from Token_data import T_Data, revert_map,data\n",
    "load_dotenv()\n",
    "from defi_sdk_py.avalanche_chain import ADDRESS as Avalanche_ADDRESS\n",
    "from defi_sdk_py.avalanche_chain import AvalancheChainClient\n",
    "from defi_sdk_py.avalanche_chain.tokens import Tokens\n",
    "from defi_sdk_py import avalanche_chain\n",
    "import json\n",
    "from defi_sdk_py.helper_future_trade import parseEther,Day, PythVAAS, PythPriceFeeds, BuildPythPriceFeedsData,UnrealizedPNL\n",
    "client = AvalancheChainClient(\n",
    "    rpc_url=os.getenv('RPC_URL_avalanche'),\n",
    "    private_key=os.getenv('METAMASK_KEY'),\n",
    "    address_const=Avalanche_ADDRESS,\n",
    "    maxFeePerGas=3000000,\n",
    "    maxPriorityFeePerGas=2000000,\n",
    ")\n",
    "address = os.getenv('METAMASK_ADDRESS')\n",
    "nft_id = int(os.getenv('NFT_ID'))\n",
    "GMXAVAX_pair_byte = client.pairs(collateral_token=client.TOKEN.WAVAX,\n",
    "                                                       underlying_token=client.TOKEN.GMX)\n",
    "AVAXUSDC_pair_byte = client.pairs(collateral_token=client.TOKEN.USDC,\n",
    "                                                       underlying_token=client.TOKEN.WAVAX)\n",
    "COQAVAX_pair_byte = client.pairs(collateral_token=client.TOKEN.WAVAX,\n",
    "                                                       underlying_token=client.TOKEN.COQ)"
   ]
  },
  {
   "cell_type": "code",
   "execution_count": 217,
   "metadata": {},
   "outputs": [],
   "source": [
    "G = client.get_router_for_swap(contract_size_in_usd=1,\n",
    "                            swap_size_output=10,\n",
    "                            source_token=client.TOKEN.USDC,\n",
    "                            destination_token=client.TOKEN.WAVAX)"
   ]
  },
  {
   "cell_type": "code",
   "execution_count": 218,
   "metadata": {},
   "outputs": [
    {
     "data": {
      "text/plain": [
       "{'0x82E90fB94fd9a5C19Bf38648DD2C9639Bde67c74': 50000000000000000,\n",
       " '0x60aE616a2155Ee3d9A68541Ba4544862310933d4': 300000000000000000,\n",
       " '0xE54Ca86531e17Ef3616d22Ca28b0D458b6C89106': 300000000000000000,\n",
       " '0x0000000000000000000000000000000000000000': 0}"
      ]
     },
     "execution_count": 218,
     "metadata": {},
     "output_type": "execute_result"
    }
   ],
   "source": [
    "dict(zip(G.routers,G.swap_fees))"
   ]
  },
  {
   "cell_type": "code",
   "execution_count": 212,
   "metadata": {},
   "outputs": [
    {
     "data": {
      "text/plain": [
       "0.05"
      ]
     },
     "execution_count": 212,
     "metadata": {},
     "output_type": "execute_result"
    }
   ],
   "source": [
    "G.swap_fees[0]*10**-18"
   ]
  }
 ],
 "metadata": {
  "kernelspec": {
   "display_name": "FWX_3.9",
   "language": "python",
   "name": "python3"
  },
  "language_info": {
   "codemirror_mode": {
    "name": "ipython",
    "version": 3
   },
   "file_extension": ".py",
   "mimetype": "text/x-python",
   "name": "python",
   "nbconvert_exporter": "python",
   "pygments_lexer": "ipython3",
   "version": "3.9.19"
  }
 },
 "nbformat": 4,
 "nbformat_minor": 2
}

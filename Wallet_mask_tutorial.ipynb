{
 "cells": [
  {
   "cell_type": "markdown",
   "metadata": {},
   "source": [
    "#Create Environment for SDK\n",
    "\n",
    "conda create -n envname python=3.9\n",
    "\n",
    "install necessary packet \n",
    "\n",
    "pip install git+https://github.com/forward-x/defi-sdk-py.git@v1.0.8\n",
    "\n",
    "pip install python-dotenv "
   ]
  },
  {
   "cell_type": "markdown",
   "metadata": {},
   "source": [
    "To select environment for using SDK\n",
    "\n",
    "conda activate envname"
   ]
  },
  {
   "cell_type": "code",
   "execution_count": 1,
   "metadata": {},
   "outputs": [
    {
     "data": {
      "text/plain": [
       "True"
      ]
     },
     "execution_count": 1,
     "metadata": {},
     "output_type": "execute_result"
    }
   ],
   "source": [
    "from Wallet import Wallet\n",
    "from dotenv import load_dotenv\n",
    "import os\n",
    "load_dotenv()"
   ]
  },
  {
   "cell_type": "code",
   "execution_count": 2,
   "metadata": {},
   "outputs": [
    {
     "name": "stdout",
     "output_type": "stream",
     "text": [
      "try connecting to chain\n",
      "Connected to https://avalanche.drpc.org\n"
     ]
    }
   ],
   "source": [
    "test = Wallet(private_key=(os.getenv('METAMASK_KEY')),native_coin='AVAX',rpc_url=os.getenv('RPC_URL_avalanche'))"
   ]
  },
  {
   "cell_type": "code",
   "execution_count": 3,
   "metadata": {},
   "outputs": [
    {
     "data": {
      "text/plain": [
       "2.5000000000000002e-08"
      ]
     },
     "execution_count": 3,
     "metadata": {},
     "output_type": "execute_result"
    }
   ],
   "source": [
    "test.get_min_gas_price()"
   ]
  },
  {
   "cell_type": "code",
   "execution_count": 4,
   "metadata": {},
   "outputs": [
    {
     "data": {
      "text/plain": [
       "0.29860957849661"
      ]
     },
     "execution_count": 4,
     "metadata": {},
     "output_type": "execute_result"
    }
   ],
   "source": [
    "test.checking_wallet_native_coin_balance()"
   ]
  },
  {
   "cell_type": "code",
   "execution_count": 5,
   "metadata": {},
   "outputs": [
    {
     "data": {
      "text/plain": [
       "20.158219"
      ]
     },
     "execution_count": 5,
     "metadata": {},
     "output_type": "execute_result"
    }
   ],
   "source": [
    "test.checking_wallet_coin_balance('USDC')"
   ]
  },
  {
   "cell_type": "code",
   "execution_count": 3,
   "metadata": {},
   "outputs": [
    {
     "name": "stdout",
     "output_type": "stream",
     "text": [
      "init chain client\n",
      "try connecting to chain\n",
      "Connected to https://avalanche.drpc.org\n"
     ]
    }
   ],
   "source": [
    "test.connect_wallet_to_FWX(maxFeePerGas=test.get_min_gas_price()*10**18)"
   ]
  },
  {
   "cell_type": "code",
   "execution_count": 7,
   "metadata": {},
   "outputs": [
    {
     "data": {
      "text/plain": [
       "['COQAVAX',\n",
       " 'GMXAVAX',\n",
       " 'JOEAVAX',\n",
       " 'PNGAVAX',\n",
       " 'QIAVAX',\n",
       " 'SAVAXAVAX',\n",
       " 'ETHeAVAX',\n",
       " 'AVAXUSDC']"
      ]
     },
     "execution_count": 7,
     "metadata": {},
     "output_type": "execute_result"
    }
   ],
   "source": [
    "test.available_pair_trade"
   ]
  },
  {
   "cell_type": "code",
   "execution_count": 8,
   "metadata": {},
   "outputs": [
    {
     "data": {
      "text/plain": [
       "1673"
      ]
     },
     "execution_count": 8,
     "metadata": {},
     "output_type": "execute_result"
    }
   ],
   "source": [
    "test.default_FWX_NFT"
   ]
  },
  {
   "cell_type": "code",
   "execution_count": 12,
   "metadata": {},
   "outputs": [
    {
     "data": {
      "text/plain": [
       "{'0x80632f808403d7d0d2586FB85F4EDC5fbacF6bae': 'FORWARD_DEX',\n",
       " '0xE54Ca86531e17Ef3616d22Ca28b0D458b6C89106': 'PANGOLIN_DEX',\n",
       " '0x60aE616a2155Ee3d9A68541Ba4544862310933d4': 'TRADERJOE_DEX',\n",
       " '0x82E90fB94fd9a5C19Bf38648DD2C9639Bde67c74': 'XLIPLESS_DEX'}"
      ]
     },
     "execution_count": 12,
     "metadata": {},
     "output_type": "execute_result"
    }
   ],
   "source": [
    "test.DEX_address"
   ]
  },
  {
   "cell_type": "code",
   "execution_count": 11,
   "metadata": {},
   "outputs": [
    {
     "data": {
      "text/plain": [
       "{'DEX': 'PANGOLIN_DEX', 'Fee': 0.30000000000000004}"
      ]
     },
     "execution_count": 11,
     "metadata": {},
     "output_type": "execute_result"
    }
   ],
   "source": [
    "test.get_destination_DEX_FWX(swap_size=1100,underlying='AVAX',collateral='USDC',is_long=True)"
   ]
  },
  {
   "cell_type": "code",
   "execution_count": 7,
   "metadata": {},
   "outputs": [
    {
     "name": "stdout",
     "output_type": "stream",
     "text": [
      "Successfully minted\n"
     ]
    }
   ],
   "source": [
    "test.mint_FWX_NFT()"
   ]
  },
  {
   "cell_type": "code",
   "execution_count": 8,
   "metadata": {},
   "outputs": [
    {
     "data": {
      "text/plain": [
       "[1673, 1674, 1706, 8834, 8999, 9050]"
      ]
     },
     "execution_count": 8,
     "metadata": {},
     "output_type": "execute_result"
    }
   ],
   "source": [
    "test.get_all_FWX_NFT_ID()"
   ]
  },
  {
   "cell_type": "code",
   "execution_count": 9,
   "metadata": {},
   "outputs": [
    {
     "name": "stdout",
     "output_type": "stream",
     "text": [
      "Successfully setting\n"
     ]
    }
   ],
   "source": [
    "test.set_current_FWX_NFT(NFT_ID=None)"
   ]
  },
  {
   "cell_type": "code",
   "execution_count": 10,
   "metadata": {},
   "outputs": [
    {
     "data": {
      "text/plain": [
       "1673"
      ]
     },
     "execution_count": 10,
     "metadata": {},
     "output_type": "execute_result"
    }
   ],
   "source": [
    "test.default_FWX_NFT"
   ]
  },
  {
   "cell_type": "code",
   "execution_count": null,
   "metadata": {},
   "outputs": [],
   "source": [
    "test.adding_collateral_FWX(underlying_token='AVAX',\n",
    "                           collateral_token='USDC',\n",
    "                           amount=40,)"
   ]
  },
  {
   "cell_type": "code",
   "execution_count": 13,
   "metadata": {},
   "outputs": [
    {
     "data": {
      "text/plain": [
       "{'Total balance': 55.874371, 'Free balance': 55.874371, 'Used balance': 0.0}"
      ]
     },
     "execution_count": 13,
     "metadata": {},
     "output_type": "execute_result"
    }
   ],
   "source": [
    "test.checking_collateral_FWX(underlying_token='AVAX',\n",
    "                             collateral_token='USDC')"
   ]
  },
  {
   "cell_type": "code",
   "execution_count": 4,
   "metadata": {},
   "outputs": [
    {
     "data": {
      "text/plain": [
       "{'USDC': {'Price': 1.000045, 'UNIX time': 1714465854},\n",
       " 'AVAX': {'Price': 34.24478765, 'UNIX time': 1714465854},\n",
       " 'ETHe': {'Price': 3136.18996819, 'UNIX time': 1714465854}}"
      ]
     },
     "execution_count": 4,
     "metadata": {},
     "output_type": "execute_result"
    }
   ],
   "source": [
    "test.get_price_form_Pyth()"
   ]
  },
  {
   "cell_type": "code",
   "execution_count": null,
   "metadata": {},
   "outputs": [],
   "source": [
    "test.open_position_FWX(underlying_token='AVAX',\n",
    "                       collateral_token='USDC',\n",
    "                       slip_page=80,\n",
    "                       is_long=True,\n",
    "                       leverage=2,\n",
    "                       desired_price=test.get_price_form_Pyth()['AVAX']['Price'],\n",
    "                       size = 1\n",
    "                       )"
   ]
  },
  {
   "cell_type": "code",
   "execution_count": 5,
   "metadata": {},
   "outputs": [
    {
     "data": {
      "text/plain": [
       "{}"
      ]
     },
     "execution_count": 5,
     "metadata": {},
     "output_type": "execute_result"
    }
   ],
   "source": [
    "test.get_current_positions_FWX()"
   ]
  },
  {
   "cell_type": "code",
   "execution_count": null,
   "metadata": {},
   "outputs": [],
   "source": [
    "test.close_position_FWX(pos_id=8,\n",
    "                        closing_size=1)"
   ]
  },
  {
   "cell_type": "code",
   "execution_count": null,
   "metadata": {},
   "outputs": [],
   "source": [
    "test.close_all_position_FWX()"
   ]
  },
  {
   "cell_type": "code",
   "execution_count": 4,
   "metadata": {},
   "outputs": [
    {
     "data": {
      "text/plain": [
       "3.2026980794944366"
      ]
     },
     "execution_count": 4,
     "metadata": {},
     "output_type": "execute_result"
    }
   ],
   "source": [
    "test.get_max_contract_size_FWX(underlying='AVAX',\n",
    "                               collateral='USDC',\n",
    "                               is_long=True,\n",
    "                               leverage=2,\n",
    "                               desired_price=test.get_price_form_Pyth()['AVAX']['Price'],\n",
    "                               slip_page=50)"
   ]
  },
  {
   "cell_type": "code",
   "execution_count": 5,
   "metadata": {},
   "outputs": [
    {
     "data": {
      "text/plain": [
       "{'DEX': 'XLIPLESS_DEX', 'Fee': 0.05}"
      ]
     },
     "execution_count": 5,
     "metadata": {},
     "output_type": "execute_result"
    }
   ],
   "source": [
    "test.get_destination_DEX_FWX(swap_size=50,\n",
    "                             underlying='AVAX',\n",
    "                             collateral='USDC',\n",
    "                             is_long=False)"
   ]
  }
 ],
 "metadata": {
  "kernelspec": {
   "display_name": "FWX_3.9",
   "language": "python",
   "name": "python3"
  },
  "language_info": {
   "codemirror_mode": {
    "name": "ipython",
    "version": 3
   },
   "file_extension": ".py",
   "mimetype": "text/x-python",
   "name": "python",
   "nbconvert_exporter": "python",
   "pygments_lexer": "ipython3",
   "version": "3.9.19"
  }
 },
 "nbformat": 4,
 "nbformat_minor": 2
}
